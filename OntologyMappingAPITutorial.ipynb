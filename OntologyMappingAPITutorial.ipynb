{
 "cells": [
  {
   "cell_type": "markdown",
   "metadata": {
    "collapsed": true
   },
   "source": [
    "# Ontology mapping with the EBI ontology service APIs"
   ]
  },
  {
   "cell_type": "markdown",
   "metadata": {},
   "source": [
    "This notebook describes a typical ontology mapping scenario where we want to map some textual values to ontology terms. In this workflow we will use the EBI's Ontology Lookup Service to lookup an ontology by label using the OLS REST API. Once we have a term we will fetch additional metadata about the term, including the synonyms and the term description. We will the get related terms, such as all the parent or ancerstral term. Finally we will look for mapppings to other ontology terms using the EBI's ontology mappings service, OxO. "
   ]
  },
  {
   "cell_type": "markdown",
   "metadata": {},
   "source": [
    "To run this tutorial you will need access to a running instance of the Ontology Lookup Service and OxO. By default it will run against the public servcies run by EBI, but can change the base URL to use a different instance of the service.  "
   ]
  },
  {
   "cell_type": "code",
   "execution_count": 9,
   "metadata": {
    "collapsed": true
   },
   "outputs": [
   ],
   "source": [
    "OLS_BASE_URI='https://www.ebi.ac.uk/ols'\n",
    "OXO_BASE_URI='https://www.ebi.ac.uk/spot/oxo'\n",
    "\n",
    "ols_base = input(\"Your base OLS URL [https://www.ebi.ac.uk/ols]: \" or OLS_BASE_URI)\n",
    "oxo_base = input(\"Your base OXO URL [https://www.ebi.ac.uk/spot/oxo]: \" or OXO_BASE_URI)\n",
    "\n",
    "print(\"Using OLS {}, OXO {}\".format(OLS_BASE_URI, OXO_BASE_URI))\n"
   ]
  },
  {
   "cell_type": "markdown",
   "metadata": {},
   "source": [
    "In this tutorial we will uses some disease data from EBI's GWAS catalogue. \n",
    "\n",
    "* Chronic obstructive pulmonary disease\n",
    "* Crohn's disease\n",
    "* Sarcoidosis\n",
    "* Cystic fibrosis\n",
    "* Idiopathic pulmonary fibrosis\n",
    "* Lung adenocarcinoma\n",
    "* Chronic bronchitis"
   ]
  },
  {
   "cell_type": "code",
   "execution_count": 2,
   "metadata": {},
   "outputs": [],
   "source": [
    "input_terms = [\n",
    "    'Chronic obstructive pulmonary disease',\n",
    "    'Crohn\\'s disease',\n",
    "    'Sarcoidosis',\n",
    "    'Cystic fibrosis',\n",
    "    'Idiopathic pulmonary fibrosis',\n",
    "    'Lung adenocarcinoma',\n",
    "    'Chronic bronchitis']\n"
   ]
  },
  {
   "cell_type": "markdown",
   "metadata": {},
   "source": [
    "## Querying the OLS API by label \n",
    "\n",
    "In this first step we will use the [OLS REST API](https://www.ebi.ac.uk/ols/docs/api) to query the [Experimental Factor Ontology](https://www.ebi.ac.uk/efo) for exact label matches to our input term. "
   ]
  },
  {
   "cell_type": "code",
   "execution_count": 3,
   "metadata": {
    "collapsed": false
   },
   "outputs": [
   ],
   "source": [
    "import requests\n",
    "import json\n",
    "import urllib.parse\n",
    "\n",
    "OLS_SEARCH_API = OLS_BASE_URI + '/api/search'\n",
    "\n",
    "term_id_map = {}\n",
    "\n",
    "for lookup in input_terms:\n",
    "        \n",
    "    search_params = {\n",
    "        'q' : lookup,\n",
    "        'ontology' : 'efo',\n",
    "        'exact' : True\n",
    "    }\n",
    "    response = requests.get(OLS_SEARCH_API, params=search_params)\n",
    "    if (response.ok):\n",
    "\n",
    "        jData = json.loads(response.content)\n",
    "        \n",
    "        # get the first hit\n",
    "        first_hit = jData['response']['docs'][0]\n",
    "        \n",
    "        # store the mapping for use later\n",
    "        term_id_map[lookup] = first_hit['obo_id']\n",
    "        \n",
    "        print ('OLS search result for \\'{}\\': mapped to \\'{}\\' with id {}'.format(lookup, first_hit['label'], first_hit['obo_id']))\n",
    "        \n",
    "        \n",
    "        "
   ]
  },
  {
   "cell_type": "markdown",
   "metadata": {},
   "source": [
    "## Get term information including synonyms and description"
   ]
  },
  {
   "cell_type": "markdown",
   "metadata": {},
   "source": [
    "We can use the OLS API to fetch more information about each term, including the terms description and synonyms."
   ]
  },
  {
   "cell_type": "code",
   "execution_count": 4,
   "metadata": {
    "collapsed": false
   },
   "outputs": [
   ],
   "source": [
    "OLS_TERMS_API = OLS_BASE_URI + '/api/terms'\n",
    "\n",
    "for term_id in term_id_map.values():\n",
    "    \n",
    "\n",
    "    lookup_params = {\n",
    "        'id' : term_id,\n",
    "        'ontology' : 'efo',\n",
    "    }\n",
    "    response = requests.get(OLS_TERMS_API, params=lookup_params)\n",
    "\n",
    "    if response.ok:\n",
    "        jData = json.loads(response.content)\n",
    "\n",
    "        print (\"Term: {} ({}),\\nDescription:{}\\nSynonyms:{}\\n\\n\"\n",
    "               .format(\n",
    "                    term_id, \n",
    "                    jData['_embedded']['terms'][0]['label'],\n",
    "                    jData['_embedded']['terms'][0]['description'][0], \n",
    "                    jData['_embedded']['terms'][0]['synonyms']))\n"
   ]
  },
  {
   "cell_type": "markdown",
   "metadata": {},
   "source": [
    "## Getting related parent terms"
   ]
  },
  {
   "cell_type": "markdown",
   "metadata": {},
   "source": [
    "You can use the OLS API to get all direct parent/child terms, or fetch all descendants/ancerstors for a given term.In this scenario we will use the `_links` exposed via the API to guide us to the correct REST URL. Also not that in these examples the results are paged. We will use the `_links` again to help navigate the results.  "
   ]
  },
  {
   "cell_type": "code",
   "execution_count": 5,
   "metadata": {
    "collapsed": false
   },
   "outputs": [
   ],
   "source": [
    "OLS_TERMS_API = OLS_BASE_URI + '/api/terms'\n",
    "\n",
    "for term_id in term_id_map.values():\n",
    "    \n",
    "    lookup_params = {\n",
    "        'id' : term_id,\n",
    "        'ontology' : 'efo',\n",
    "    }\n",
    "    response = requests.get(OLS_TERMS_API, params=lookup_params)\n",
    "\n",
    "    if response.ok:\n",
    "        jData = json.loads(response.content)\n",
    "\n",
    "        # get the URL for direct parents and ancestors\n",
    "        label = jData['_embedded']['terms'][0]['label']\n",
    "        \n",
    "        parents_url = jData['_embedded']['terms'][0]['_links']['parents']['href']\n",
    "        ancestors_url = jData['_embedded']['terms'][0]['_links']['ancestors']['href']\n",
    "   \n",
    "        parents_response = requests.get(parents_url)\n",
    "        \n",
    "        print(\"{}({})\".format(term_id, label))\n",
    "        if parents_response.ok:\n",
    "            \n",
    "            jData = json.loads(parents_response.content)\n",
    "            for parent in jData['_embedded']['terms']:\n",
    "                print (\"\\t child of --> {} ({})\".format(\n",
    "                    parent['obo_id'],\n",
    "                    parent['label']\n",
    "                ))\n",
    "                \n",
    "            print(\"\\n\\n\")\n",
    "                            \n",
    "\n",
    "        more_paged_results = True\n",
    "        print(\"{}({})\".format(term_id, label))\n",
    "        while (more_paged_results): \n",
    "            ancestor_response = requests.get(ancestors_url)\n",
    "            if ancestor_response.ok:\n",
    "            \n",
    "                jData = json.loads(ancestor_response.content)\n",
    "                for parent in jData['_embedded']['terms']:\n",
    "                    print (\"\\t descendant of --> {} ({})\".format(\n",
    "                        parent['obo_id'],\n",
    "                        parent['label']\n",
    "                    ))\n",
    "                    \n",
    "               \n",
    "                if 'next' in jData['_links']:\n",
    "                    ancestors_url = jData['_links']['next']['href']\n",
    "                else:\n",
    "                    more_paged_results = False\n",
    "                    print(\"\\n\\n\")"
   ]
  },
  {
   "cell_type": "markdown",
   "metadata": {},
   "source": [
    "## Checking for subsumptions"
   ]
  },
  {
   "cell_type": "markdown",
   "metadata": {},
   "source": [
    "You can use the OLS API to test if a term is child a particular higher level category. We want to know if any of the terms above are type of cancer. Cancer in EFO has the full URI of `http://www.ebi.ac.uk/efo/EFO_0000311`."
   ]
  },
  {
   "cell_type": "code",
   "execution_count": 6,
   "metadata": {
    "collapsed": false
   },
   "outputs": [
   ],
   "source": [
    "EFO_CANCER_TERM = 'http://www.ebi.ac.uk/efo/EFO_0000311'\n",
    "\n",
    "for term_name in term_id_map.keys():\n",
    "    \n",
    "    search_params = {\n",
    "        'q' : term_name,\n",
    "        'exact' : True,\n",
    "        'childrenOf' : EFO_CANCER_TERM,\n",
    "        'ontology' : 'efo',\n",
    "    }\n",
    "    response = requests.get(OLS_SEARCH_API, params=search_params)\n",
    "\n",
    "    if response.ok:\n",
    "        jData = json.loads(response.content)\n",
    "        \n",
    "        # if we get a result then it must be a child\n",
    "        \n",
    "        if len(jData['response']['docs']) > 0:\n",
    "            print(\"{} is a type of cancer\".format(jData['response']['docs'][0]['label']))\n",
    "        else:\n",
    "            print(\"{} is not a type of cancer\".format(term_name))\n",
    "\n"
   ]
  },
  {
   "cell_type": "markdown",
   "metadata": {},
   "source": [
    "## Finding mappings to other ontologies\n",
    "\n",
    "You will sometimes need to map between ontologies, especially the disease ontologies. You can use the EBI's OxO service to lookup mappings from existing ontologies. Here we will use the [OxO REST API](https://www.ebi.ac.uk/spot/oxo/docs/api) to find mappings for the terms used above. \n",
    "\n",
    "You can submit multiple ids at once to OxO, we will also restrict the mappings to a set of disease ontologies; SNOMEDCT and ICD10CM. We also only want mappings from a trusted source, in this case we will set MONDO and EFO and the allowed source for mappings. We set the distance to 1 to only get direct mappings. In the next section we will look at distance 2 and how that changes the result. Also note the results from OxO are paged. \n"
   ]
  },
  {
   "cell_type": "code",
   "execution_count": 7,
   "metadata": {
    "collapsed": false
   },
   "outputs": [
   ],
   "source": [
    "    \n",
    "input_data = {\n",
    "    'ids' : term_id_map.values(),\n",
    "    \"mappingTarget\": [\"SNOMEDCT\", \"ICD10CM\"],\n",
    "    \"mappingSource\": [\"EFO\", \"MONDO\"],\n",
    "    'distance' : 1\n",
    "}\n",
    "\n",
    "def get_mappings_from_oxo (input_data):\n",
    "    oxo_search_url = OXO_BASE_URI + '/api/search'\n",
    "    more_paged_results = True\n",
    "    while (more_paged_results): \n",
    "    \n",
    "        oxo_response = requests.post(oxo_search_url, data=input_data)\n",
    "        \n",
    "        if oxo_response.ok:\n",
    "            jData = json.loads(oxo_response.content)\n",
    "    \n",
    "            for oxo_result in jData[\"_embedded\"][\"searchResults\"]:\n",
    "                print(\"{} ({})\".format(oxo_result['queryId'], oxo_result['label']))\n",
    "    \n",
    "                for mappings in oxo_result['mappingResponseList']:\n",
    "                    print(\"\\tmaps to {} ({}))\".format(\n",
    "                        mappings[\"curie\"],\n",
    "                        mappings[\"label\"]\n",
    "                    ))\n",
    "            \n",
    "            if 'next' in jData['_links']:\n",
    "                oxo_search_url = jData['_links']['next']['href']\n",
    "            else:\n",
    "                more_paged_results = False\n",
    "                \n",
    "get_mappings_from_oxo(input_data)"
   ]
  },
  {
   "cell_type": "markdown",
   "metadata": {},
   "source": [
    "Let's increase the distance and try again. Setting the distance to 2 will find indirect mappings and should increase the coverage for some terms. "
   ]
  },
  {
   "cell_type": "code",
   "execution_count": 8,
   "metadata": {
    "collapsed": false
   },
   "outputs": [
   ],
   "source": [
    "input_data = {\n",
    "    'ids' : term_id_map.values(),\n",
    "    \"mappingTarget\": [\"SNOMEDCT\", \"ICD10CM\"],\n",
    "    \"mappingSource\": [\"EFO\", \"MONDO\"],\n",
    "    'distance' : 2\n",
    "}\n",
    "get_mappings_from_oxo(input_data)"
   ]
  },
  {
   "cell_type": "markdown",
   "metadata": {},
   "source": [
    "# Summary\n",
    "\n",
    "We've shown some of the functionality of the EBI's Ontology Lookup Service and OxO Mapping API. For more information about the EBI's ontology services see http://www.ebi.ac.uk/spot/ontology. You can also contact the team at ols-support@ebi.ac.uk"
   ]
  }
 ],
 "metadata": {
  "kernelspec": {
   "display_name": "Python 2",
   "language": "python",
   "name": "python2"
  },
  "language_info": {
   "codemirror_mode": {
    "name": "ipython",
    "version": 2
   },
   "file_extension": ".py",
   "mimetype": "text/x-python",
   "name": "python",
   "nbconvert_exporter": "python",
   "pygments_lexer": "ipython2",
   "version": "2.7.6"
  }
 },
 "nbformat": 4,
 "nbformat_minor": 0
}
