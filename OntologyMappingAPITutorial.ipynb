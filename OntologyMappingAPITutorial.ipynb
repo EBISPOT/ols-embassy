{
 "cells": [
  {
   "cell_type": "markdown",
   "metadata": {
    "collapsed": true
   },
   "source": [
    "# Ontology mapping with the EBI ontology service APIs"
   ]
  },
  {
   "cell_type": "markdown",
   "metadata": {},
   "source": [
    "This notebook describes a typical ontology mapping scenario where we want to map some textual values to ontology terms. In this workflow we will use the EBI's Ontology Lookup Service to lookup an ontology by label using the OLS REST API. Once we have a term we will fetch additional metadata about the term, including the synonyms and the term description. We will the get related terms, such as all the parent or ancerstral term. Finally we will look for mapppings to other ontology terms using the EBI's ontology mappings service, OxO. "
   ]
  },
  {
   "cell_type": "markdown",
   "metadata": {},
   "source": [
    "To run this tutorial you will need access to a running instance of the Ontology Lookup Service and OxO. By default it will run against the public servcies run by EBI, but can change the base URL to use a different instance of the service.  "
   ]
  },
  {
   "cell_type": "code",
   "execution_count": 9,
   "metadata": {
    "collapsed": true
   },
   "outputs": [
    {
     "name": "stdout",
     "output_type": "stream",
     "text": [
      "\n"
     ]
    }
   ],
   "source": [
    "OLS_BASE_URI='https://www.ebi.ac.uk/ols'\n",
    "OXO_BASE_URI='https://www.ebi.ac.uk/spot/oxo'\n",
    "\n",
    "ols_base = input(\"Your base OLS URL [https://www.ebi.ac.uk/ols]: \" or OLS_BASE_URI)\n",
    "oxo_base = input(\"Your base OXO URL [https://www.ebi.ac.uk/spot/oxo]: \" or OXO_BASE_URI)\n",
    "\n",
    "print(\"Using OLS {}, OXO {}\".format(OLS_BASE_URI, OXO_BASE_URI))\n"
   ]
  },
  {
   "cell_type": "markdown",
   "metadata": {},
   "source": [
    "In this tutorial we will uses some disease data from EBI's GWAS catalogue. \n",
    "\n",
    "* Chronic obstructive pulmonary disease\n",
    "* Crohn's disease\n",
    "* Sarcoidosis\n",
    "* Cystic fibrosis\n",
    "* Idiopathic pulmonary fibrosis\n",
    "* Lung adenocarcinoma\n",
    "* Chronic bronchitis"
   ]
  },
  {
   "cell_type": "code",
   "execution_count": 2,
   "metadata": {},
   "outputs": [],
   "source": [
    "input_terms = [\n",
    "    'Chronic obstructive pulmonary disease',\n",
    "    'Crohn\\'s disease',\n",
    "    'Sarcoidosis',\n",
    "    'Cystic fibrosis',\n",
    "    'Idiopathic pulmonary fibrosis',\n",
    "    'Lung adenocarcinoma',\n",
    "    'Chronic bronchitis']\n"
   ]
  },
  {
   "cell_type": "markdown",
   "metadata": {},
   "source": [
    "## Querying the OLS API by label \n",
    "\n",
    "In this first step we will use the [OLS REST API](https://www.ebi.ac.uk/ols/docs/api) to query the [Experimental Factor Ontology](https://www.ebi.ac.uk/efo) for exact label matches to our input term. "
   ]
  },
  {
   "cell_type": "code",
   "execution_count": 3,
   "metadata": {
    "collapsed": false
   },
   "outputs": [
    {
     "name": "stdout",
     "output_type": "stream",
     "text": [
      "OLS search result for 'Chronic obstructive pulmonary disease': mapped to 'chronic obstructive pulmonary disease' with id EFO:0000341\n"
     ]
    },
    {
     "name": "stdout",
     "output_type": "stream",
     "text": [
      "OLS search result for 'Crohn's disease': mapped to 'Crohn's disease' with id EFO:0000384\n"
     ]
    },
    {
     "name": "stdout",
     "output_type": "stream",
     "text": [
      "OLS search result for 'Sarcoidosis': mapped to 'Sarcoidosis' with id Orphanet:797\n"
     ]
    },
    {
     "name": "stdout",
     "output_type": "stream",
     "text": [
      "OLS search result for 'Cystic fibrosis': mapped to 'Cystic fibrosis' with id Orphanet:586\n"
     ]
    },
    {
     "name": "stdout",
     "output_type": "stream",
     "text": [
      "OLS search result for 'Idiopathic pulmonary fibrosis': mapped to 'idiopathic pulmonary fibrosis' with id EFO:0000768\nOLS search result for 'Lung adenocarcinoma': mapped to 'lung adenocarcinoma' with id EFO:0000571\n"
     ]
    },
    {
     "name": "stdout",
     "output_type": "stream",
     "text": [
      "OLS search result for 'Chronic bronchitis': mapped to 'chronic bronchitis' with id EFO:0006505\n"
     ]
    }
   ],
   "source": [
    "import requests\n",
    "import json\n",
    "import urllib.parse\n",
    "\n",
    "OLS_SEARCH_API = OLS_BASE_URI + '/api/search'\n",
    "\n",
    "term_id_map = {}\n",
    "\n",
    "for lookup in input_terms:\n",
    "        \n",
    "    search_params = {\n",
    "        'q' : lookup,\n",
    "        'ontology' : 'efo',\n",
    "        'exact' : True\n",
    "    }\n",
    "    response = requests.get(OLS_SEARCH_API, params=search_params)\n",
    "    if (response.ok):\n",
    "\n",
    "        jData = json.loads(response.content)\n",
    "        \n",
    "        # get the first hit\n",
    "        first_hit = jData['response']['docs'][0]\n",
    "        \n",
    "        # store the mapping for use later\n",
    "        term_id_map[lookup] = first_hit['obo_id']\n",
    "        \n",
    "        print ('OLS search result for \\'{}\\': mapped to \\'{}\\' with id {}'.format(lookup, first_hit['label'], first_hit['obo_id']))\n",
    "        \n",
    "        \n",
    "        "
   ]
  },
  {
   "cell_type": "markdown",
   "metadata": {},
   "source": [
    "## Get term information including synonyms and description"
   ]
  },
  {
   "cell_type": "markdown",
   "metadata": {},
   "source": [
    "We can use the OLS API to fetch more information about each term, including the terms description and synonyms."
   ]
  },
  {
   "cell_type": "code",
   "execution_count": 4,
   "metadata": {
    "collapsed": false
   },
   "outputs": [
    {
     "name": "stdout",
     "output_type": "stream",
     "text": [
      "Term: EFO:0000341 (chronic obstructive pulmonary disease),\nDescription:A chronic and progressive lung disorder characterized by the loss of elasticity of the bronchial tree and the air sacs, destruction of the air sacs wall, thickening of the bronchial wall, and mucous accumulation in the bronchial tree. The pathologic changes result in the disruption of the air flow in the bronchial airways. Signs and symptoms include shortness of breath, wheezing, productive cough, and chest tightness. The two main types of chronic obstructive pulmonary disease are chronic obstructive bronchitis and emphysema.\nSynonyms:['DISEASE (COPD), CHRONIC OBSTRUCTIVE', 'Chronic obstructive lung disease, NEC', 'COAD - Chronic obstructive airways disease', 'COPD, chronic obstructive pulmonary disease', 'chronic obstructive lung disease [Ambiguous]', 'OBSTRUCTIVE PULMONARY DISEASE (COPD), CHRONIC', 'chronic obstructive airways disease NOS', 'COPD, CHRONIC OBSTRUCTIVE PULMONARY DISEASE', 'obstructive pulmonary disease (COPD), chronic', 'Chronic Airflow Obstructions', 'COAD', 'CAO - Chronic airflow obstruction', 'Airflow Obstruction, Chronic', 'chronic obstructive pulmonary disease (COPD)', 'CHRONIC OBSTRUCTIVE PULM DIS', 'Chronic obstructive pulmonary disease NOS', 'COLD - Chronic obstructive lung disease', 'PULM DIS CHRONIC OBSTRUCTIVE', 'Chronic obstructive pulmonary disease finding (finding)', 'Chronic obstructive pulmonary disease finding', 'CHRONIC OBSTRUCTIVE AIRWAY DIS', 'chronic obstructive airways disease NOS (disorder)', 'chronic obstructive pulmonary disease and allied conditions', 'Chronic irreversible airway obstruction', 'Chronic airway disease', 'disease (COPD), chronic obstructive', 'Chronic Obstructive Pulmonary Disease (COPD)', 'CAL - Chronic airflow limitation', 'COPD NOS', 'CHRONIC OBSTRUCTIVE LUNG DIS', 'chronic obstructive airway disease', 'Chronic Obstructive Airways Disease', 'chronic airway obstruction, not elsewhere classified', 'Chronic airway obstruction', 'COLD (chronic obstructive lung disease)', 'Chronic obstructive lung disease, NOS', 'cold', 'obstructive lung disease, chronic', 'Dops', 'pulmonary disease (COPD), chronic obstructive', 'CAFL - Chronic airflow limitation', 'Airflow Obstructions, Chronic', 'chronic airway obstruction, NEC in ICD9CM_2006', 'Chronic airflow limitation', 'Chronic Airflow Obstruction', 'Pulmonary Disease, Chronic Obstructive', 'COPD - Chronic obstructive pulmonary disease', 'chronic obstructive lung disease (disorder)', 'chronic obstructive airways disease', 'cold (chronic obstructive lung disease)', 'chronic obstructive pulmonary disease, (COPD)', 'Chronic Obstructive Lung Disease', 'PULMONARY DISEASE (COPD), CHRONIC OBSTRUCTIVE', 'CHRONIC OBSTRUCTIVE PULMONARY DISEASE, (COPD)', 'chronic obstructive lung disease', 'COLD', 'chronic obstructive pulmonary disease', 'COPD']\n\n\n"
     ]
    },
    {
     "name": "stdout",
     "output_type": "stream",
     "text": [
      "Term: EFO:0000384 (Crohn's disease),\nDescription:A gastrointestinal disorder characterized by chronic inflammation involving all layers of the intestinal wall, noncaseating granulomas affecting the intestinal wall and regional lymph nodes, and transmural fibrosis. Crohn disease most commonly involves the terminal ileum; the colon is the second most common site of involvement.\nSynonyms:['Enteritis, Granulomatous', 'Colitis, Granulomatous', 'Ileocolitis', \"pediatric Crohn's disease\", 'CROHNS DIS', 'Enteritis, Regional', 'Crohn Disease', \"Crohn's disease of colon\", \"Crohn's disease\", 'Gastritis Associated with Crohn Disease', 'Crohn disease', \"Gastritis Associated with Crohn's Disease\", 'granulomatous colitis', 'regional enteritis', 'Ileitis, Regional', 'Crohns Disease', \"Crohn's disease of large bowel\", 'CROHN DIS', \"Crohn's associated gastritis\", 'Ileitis, Terminal']\n\n\n"
     ]
    },
    {
     "name": "stdout",
     "output_type": "stream",
     "text": [
      "Term: Orphanet:797 (Sarcoidosis),\nDescription:Sarcoidosis is a multisystemic disorder of unknown cause characterized by the formation of immune granulomas in involved organs.\nSynonyms:[\"Boeck's sarcoid\", 'Besnier-Boeck-Schaumann disease', 'Boeck sarcoid']\n\n\n"
     ]
    },
    {
     "name": "stdout",
     "output_type": "stream",
     "text": [
      "Term: Orphanet:586 (Cystic fibrosis),\nDescription:Cystic fibrosis (CF) is a genetic disorder characterized by the production of sweat with a high salt content and mucus secretions with an abnormal viscosity.\nSynonyms:['Mucoviscidosis', 'CF']\n\n\n"
     ]
    },
    {
     "name": "stdout",
     "output_type": "stream",
     "text": [
      "Term: EFO:0000768 (idiopathic pulmonary fibrosis),\nDescription:Chronic and progressive fibrosis of the lung parenchyma of unknown cause.\nSynonyms:['idiopathic pulmonary fibrosis, familial', 'usual interstitial pneumonia', 'fibrocystic pulmonary dysplasia', 'idiopathic pulmonary fibrosis', 'UIP', 'IPF', 'cryptogenic fibrosing alveolitis', 'CFA']\n\n\nTerm: EFO:0000571 (lung adenocarcinoma),\nDescription:A carcinoma that arises from the lung and is characterized by the presence of malignant glandular epithelial cells. There is a male predilection with a male to female ratio of 2:1. Usually lung adenocarcinoma is asymptomatic and is identified through screening studies or as an incidental radiologic finding. If clinical symptoms are present they include shortness of breath, cough, hemoptysis, chest pain, and fever. Tobacco smoke is a known risk factor.\nSynonyms:['bronchogenic lung adenocarcinoma', 'nonsmall cell adenocarcinoma', 'Adenocarcinoma of Lung', 'adenocarcinoma of the lung', 'non-small cell lung adenocarcinoma', 'lung adenocarcinoma', 'adenocarcinoma of lung (disorder)', 'adenocarcinoma of lung', 'Adenocarcinoma of the Lung']\n\n\n"
     ]
    },
    {
     "name": "stdout",
     "output_type": "stream",
     "text": [
      "Term: EFO:0006505 (chronic bronchitis),\nDescription:A type of chronic obstructive pulmonary disease characterized by chronic inflammation in the bronchial tree that results in edema, mucus production, obstruction, and reduced airflow to and from the lung alveoli. The most common cause is tobacco smoking. Signs and symptoms include coughing with excessive mucus production, and shortness of breath.\nSynonyms:['chronic bronchitis', 'bronchitis, chronic']\n\n\n"
     ]
    }
   ],
   "source": [
    "OLS_TERMS_API = OLS_BASE_URI + '/api/terms'\n",
    "\n",
    "for term_id in term_id_map.values():\n",
    "    \n",
    "\n",
    "    lookup_params = {\n",
    "        'id' : term_id,\n",
    "        'ontology' : 'efo',\n",
    "    }\n",
    "    response = requests.get(OLS_TERMS_API, params=lookup_params)\n",
    "\n",
    "    if response.ok:\n",
    "        jData = json.loads(response.content)\n",
    "\n",
    "        print (\"Term: {} ({}),\\nDescription:{}\\nSynonyms:{}\\n\\n\"\n",
    "               .format(\n",
    "                    term_id, \n",
    "                    jData['_embedded']['terms'][0]['label'],\n",
    "                    jData['_embedded']['terms'][0]['description'][0], \n",
    "                    jData['_embedded']['terms'][0]['synonyms']))\n"
   ]
  },
  {
   "cell_type": "markdown",
   "metadata": {},
   "source": [
    "## Getting related parent terms"
   ]
  },
  {
   "cell_type": "markdown",
   "metadata": {},
   "source": [
    "You can use the OLS API to get all direct parent/child terms, or fetch all descendants/ancerstors for a given term.In this scenario we will use the `_links` exposed via the API to guide us to the correct REST URL. Also not that in these examples the results are paged. We will use the `_links` again to help navigate the results.  "
   ]
  },
  {
   "cell_type": "code",
   "execution_count": 5,
   "metadata": {
    "collapsed": false
   },
   "outputs": [
    {
     "name": "stdout",
     "output_type": "stream",
     "text": [
      "EFO:0000341(chronic obstructive pulmonary disease)\n\t child of --> EFO:0009910 (chronic lung disease)\n\t child of --> MONDO:0002567 (tracheal disease)\n\n\n\nEFO:0000341(chronic obstructive pulmonary disease)\n"
     ]
    },
    {
     "name": "stdout",
     "output_type": "stream",
     "text": [
      "\t descendant of --> MONDO:0002567 (tracheal disease)\n\t descendant of --> MONDO:0004867 (upper respiratory tract disease)\n\t descendant of --> EFO:0000684 (respiratory system disease)\n\t descendant of --> MONDO:0021199 (disease by anatomical system)\n\t descendant of --> EFO:0000408 (disease)\n\t descendant of --> None (disposition)\n\t descendant of --> None (material property)\n\t descendant of --> EFO:0000001 (experimental factor)\n\t descendant of --> None (Thing)\n\t descendant of --> EFO:0009433 (lower respiratory tract disease)\n\t descendant of --> EFO:0009910 (chronic lung disease)\n\t descendant of --> EFO:0003818 (lung disease)\n\t descendant of --> MONDO:0000651 (thoracic disease)\n\t descendant of --> MONDO:0024505 (disorder by anatomical region)\n\t descendant of --> EFO:0009714 (chronic disease)\n\n\n\n"
     ]
    },
    {
     "name": "stdout",
     "output_type": "stream",
     "text": [
      "EFO:0000384(Crohn's disease)\n\t child of --> EFO:0003767 (inflammatory bowel disease)\n\n\n\nEFO:0000384(Crohn's disease)\n"
     ]
    },
    {
     "name": "stdout",
     "output_type": "stream",
     "text": [
      "\t descendant of --> EFO:0003767 (inflammatory bowel disease)\n\t descendant of --> EFO:0005140 (autoimmune disease)\n\t descendant of --> EFO:0000540 (immune system disease)\n\t descendant of --> MONDO:0021199 (disease by anatomical system)\n\t descendant of --> EFO:0000408 (disease)\n\t descendant of --> None (disposition)\n\t descendant of --> None (material property)\n\t descendant of --> EFO:0000001 (experimental factor)\n\t descendant of --> None (Thing)\n\t descendant of --> EFO:0009431 (intestinal disease)\n\t descendant of --> EFO:0000405 (digestive system disease)\n\n\n\n"
     ]
    },
    {
     "name": "stdout",
     "output_type": "stream",
     "text": [
      "Orphanet:797(Sarcoidosis)\n\t child of --> Orphanet:377788 (disease)\n\n\n\nOrphanet:797(Sarcoidosis)\n"
     ]
    },
    {
     "name": "stdout",
     "output_type": "stream",
     "text": [
      "\t descendant of --> Orphanet:377788 (disease)\n\t descendant of --> Orphanet:C001 (clinical entity)\n\t descendant of --> None (Thing)\n\n\n\n"
     ]
    },
    {
     "name": "stdout",
     "output_type": "stream",
     "text": [
      "Orphanet:586(Cystic fibrosis)\n\t child of --> Orphanet:377788 (disease)\n\n\n\nOrphanet:586(Cystic fibrosis)\n\t descendant of --> Orphanet:377788 (disease)\n\t descendant of --> Orphanet:C001 (clinical entity)\n\t descendant of --> None (Thing)\n\n\n\n"
     ]
    },
    {
     "name": "stdout",
     "output_type": "stream",
     "text": [
      "EFO:0000768(idiopathic pulmonary fibrosis)\n\t child of --> MONDO:0002429 (idiopathic interstitial pneumonia)\n\t child of --> EFO:0009448 (pulmonary fibrosis)\n\n\n\nEFO:0000768(idiopathic pulmonary fibrosis)\n"
     ]
    },
    {
     "name": "stdout",
     "output_type": "stream",
     "text": [
      "\t descendant of --> EFO:0009448 (pulmonary fibrosis)\n\t descendant of --> EFO:0006890 (fibrosis)\n\t descendant of --> EFO:0000616 (neoplasm)\n\t descendant of --> MONDO:0023370 (neoplastic disease or syndrome)\n\t descendant of --> MONDO:0045024 (cell proliferation disorder)\n\t descendant of --> EFO:0000408 (disease)\n\t descendant of --> None (disposition)\n\t descendant of --> None (material property)\n\t descendant of --> EFO:0000001 (experimental factor)\n\t descendant of --> None (Thing)\n\t descendant of --> EFO:0004244 (interstitial lung disease)\n\t descendant of --> EFO:0003818 (lung disease)\n\t descendant of --> MONDO:0000651 (thoracic disease)\n\t descendant of --> MONDO:0024505 (disorder by anatomical region)\n\t descendant of --> EFO:0009433 (lower respiratory tract disease)\n\t descendant of --> EFO:0000684 (respiratory system disease)\n\t descendant of --> MONDO:0021199 (disease by anatomical system)\n\t descendant of --> MONDO:0015118 (rare pulmonary disease)\n\t descendant of --> EFO:0003853 (respiratory system neoplasm)\n\t descendant of --> MONDO:0002429 (idiopathic interstitial pneumonia)\n"
     ]
    },
    {
     "name": "stdout",
     "output_type": "stream",
     "text": [
      "\t descendant of --> MONDO:0017027 (primary interstitial lung disease specific to adulthood)\n\t descendant of --> MONDO:0017026 (interstitial lung disease specific to adulthood)\n\t descendant of --> EFO:0003106 (pneumonia)\n\t descendant of --> MONDO:0024355 (respiratory tract infectious disease)\n\t descendant of --> EFO:0005741 (infectious disease)\n\n\n\n"
     ]
    },
    {
     "name": "stdout",
     "output_type": "stream",
     "text": [
      "EFO:0000571(lung adenocarcinoma)\n\t child of --> EFO:0000228 (adenocarcinoma)\n\t child of --> EFO:0003060 (non-small cell lung carcinoma)\n\n\n\nEFO:0000571(lung adenocarcinoma)\n"
     ]
    },
    {
     "name": "stdout",
     "output_type": "stream",
     "text": [
      "\t descendant of --> EFO:0003060 (non-small cell lung carcinoma)\n\t descendant of --> EFO:0001071 (lung carcinoma)\n\t descendant of --> EFO:0000313 (carcinoma)\n\t descendant of --> EFO:0006858 (epithelial neoplasm)\n\t descendant of --> EFO:0000616 (neoplasm)\n\t descendant of --> MONDO:0023370 (neoplastic disease or syndrome)\n\t descendant of --> MONDO:0045024 (cell proliferation disorder)\n\t descendant of --> EFO:0000408 (disease)\n\t descendant of --> None (disposition)\n\t descendant of --> None (material property)\n\t descendant of --> EFO:0000001 (experimental factor)\n\t descendant of --> None (Thing)\n\t descendant of --> EFO:0000311 (cancer)\n\t descendant of --> MONDO:0008903 (lung cancer)\n\t descendant of --> MONDO:0000376 (respiratory system cancer)\n\t descendant of --> EFO:0003853 (respiratory system neoplasm)\n\t descendant of --> EFO:0000684 (respiratory system disease)\n\t descendant of --> MONDO:0021199 (disease by anatomical system)\n\t descendant of --> MONDO:0021117 (lung neoplasm)\n\t descendant of --> EFO:0003818 (lung disease)\n"
     ]
    },
    {
     "name": "stdout",
     "output_type": "stream",
     "text": [
      "\t descendant of --> MONDO:0000651 (thoracic disease)\n\t descendant of --> MONDO:0024505 (disorder by anatomical region)\n\t descendant of --> EFO:0009433 (lower respiratory tract disease)\n\t descendant of --> MONDO:0020641 (respiratory tract neoplasm)\n\t descendant of --> MONDO:0021350 (neoplasm of thorax)\n\t descendant of --> MONDO:0003274 (thoracic cancer)\n\t descendant of --> EFO:0000228 (adenocarcinoma)\n\t descendant of --> MONDO:0024276 (glandular cell neoplasm)\n\n\n\n"
     ]
    },
    {
     "name": "stdout",
     "output_type": "stream",
     "text": [
      "EFO:0006505(chronic bronchitis)\n\t child of --> EFO:0000341 (chronic obstructive pulmonary disease)\n\t child of --> EFO:0009661 (bronchitis)\n\n\n\nEFO:0006505(chronic bronchitis)\n"
     ]
    },
    {
     "name": "stdout",
     "output_type": "stream",
     "text": [
      "\t descendant of --> EFO:0009661 (bronchitis)\n\t descendant of --> EFO:1002018 (bronchial disease)\n\t descendant of --> MONDO:0000651 (thoracic disease)\n\t descendant of --> MONDO:0024505 (disorder by anatomical region)\n\t descendant of --> EFO:0000408 (disease)\n\t descendant of --> None (disposition)\n\t descendant of --> None (material property)\n\t descendant of --> EFO:0000001 (experimental factor)\n\t descendant of --> None (Thing)\n\t descendant of --> EFO:0009433 (lower respiratory tract disease)\n\t descendant of --> EFO:0000684 (respiratory system disease)\n\t descendant of --> MONDO:0021199 (disease by anatomical system)\n\t descendant of --> MONDO:0021925 (tracheobronchitis)\n\t descendant of --> EFO:0009903 (inflammatory disease)\n\t descendant of --> EFO:0000341 (chronic obstructive pulmonary disease)\n\t descendant of --> MONDO:0002567 (tracheal disease)\n\t descendant of --> MONDO:0004867 (upper respiratory tract disease)\n\t descendant of --> EFO:0009910 (chronic lung disease)\n\t descendant of --> EFO:0003818 (lung disease)\n\t descendant of --> EFO:0009714 (chronic disease)\n\n\n\n"
     ]
    }
   ],
   "source": [
    "OLS_TERMS_API = OLS_BASE_URI + '/api/terms'\n",
    "\n",
    "for term_id in term_id_map.values():\n",
    "    \n",
    "    lookup_params = {\n",
    "        'id' : term_id,\n",
    "        'ontology' : 'efo',\n",
    "    }\n",
    "    response = requests.get(OLS_TERMS_API, params=lookup_params)\n",
    "\n",
    "    if response.ok:\n",
    "        jData = json.loads(response.content)\n",
    "\n",
    "        # get the URL for direct parents and ancestors\n",
    "        label = jData['_embedded']['terms'][0]['label']\n",
    "        \n",
    "        parents_url = jData['_embedded']['terms'][0]['_links']['parents']['href']\n",
    "        ancestors_url = jData['_embedded']['terms'][0]['_links']['ancestors']['href']\n",
    "   \n",
    "        parents_response = requests.get(parents_url)\n",
    "        \n",
    "        print(\"{}({})\".format(term_id, label))\n",
    "        if parents_response.ok:\n",
    "            \n",
    "            jData = json.loads(parents_response.content)\n",
    "            for parent in jData['_embedded']['terms']:\n",
    "                print (\"\\t child of --> {} ({})\".format(\n",
    "                    parent['obo_id'],\n",
    "                    parent['label']\n",
    "                ))\n",
    "                \n",
    "            print(\"\\n\\n\")\n",
    "                            \n",
    "\n",
    "        more_paged_results = True\n",
    "        print(\"{}({})\".format(term_id, label))\n",
    "        while (more_paged_results): \n",
    "            ancestor_response = requests.get(ancestors_url)\n",
    "            if ancestor_response.ok:\n",
    "            \n",
    "                jData = json.loads(ancestor_response.content)\n",
    "                for parent in jData['_embedded']['terms']:\n",
    "                    print (\"\\t descendant of --> {} ({})\".format(\n",
    "                        parent['obo_id'],\n",
    "                        parent['label']\n",
    "                    ))\n",
    "                    \n",
    "               \n",
    "                if 'next' in jData['_links']:\n",
    "                    ancestors_url = jData['_links']['next']['href']\n",
    "                else:\n",
    "                    more_paged_results = False\n",
    "                    print(\"\\n\\n\")\n",
    "\n",
    "\n",
    "        "
   ]
  },
  {
   "cell_type": "markdown",
   "metadata": {},
   "source": [
    "## Checking for subsumptions"
   ]
  },
  {
   "cell_type": "markdown",
   "metadata": {},
   "source": [
    "You can use the OLS API to test if a term is child a particular higher level category. We want to know if any of the terms above are type of cancer. Cancer in EFO has the full URI of `http://www.ebi.ac.uk/efo/EFO_0000311`."
   ]
  },
  {
   "cell_type": "code",
   "execution_count": 6,
   "metadata": {
    "collapsed": false
   },
   "outputs": [
    {
     "name": "stdout",
     "output_type": "stream",
     "text": [
      "Chronic obstructive pulmonary disease is not a type of cancer\n"
     ]
    },
    {
     "name": "stdout",
     "output_type": "stream",
     "text": [
      "Crohn's disease is not a type of cancer\nSarcoidosis is not a type of cancer\n"
     ]
    },
    {
     "name": "stdout",
     "output_type": "stream",
     "text": [
      "Cystic fibrosis is not a type of cancer\nIdiopathic pulmonary fibrosis is not a type of cancer\n"
     ]
    },
    {
     "name": "stdout",
     "output_type": "stream",
     "text": [
      "lung adenocarcinoma is a type of cancer\n"
     ]
    },
    {
     "name": "stdout",
     "output_type": "stream",
     "text": [
      "Chronic bronchitis is not a type of cancer\n"
     ]
    }
   ],
   "source": [
    "EFO_CANCER_TERM = 'http://www.ebi.ac.uk/efo/EFO_0000311'\n",
    "\n",
    "for term_name in term_id_map.keys():\n",
    "    \n",
    "    search_params = {\n",
    "        'q' : term_name,\n",
    "        'exact' : True,\n",
    "        'childrenOf' : EFO_CANCER_TERM,\n",
    "        'ontology' : 'efo',\n",
    "    }\n",
    "    response = requests.get(OLS_SEARCH_API, params=search_params)\n",
    "\n",
    "    if response.ok:\n",
    "        jData = json.loads(response.content)\n",
    "        \n",
    "        # if we get a result then it must be a child\n",
    "        \n",
    "        if len(jData['response']['docs']) > 0:\n",
    "            print(\"{} is a type of cancer\".format(jData['response']['docs'][0]['label']))\n",
    "        else:\n",
    "            print(\"{} is not a type of cancer\".format(term_name))\n",
    "\n"
   ]
  },
  {
   "cell_type": "markdown",
   "metadata": {},
   "source": [
    "## Finding mappings to other ontologies\n",
    "\n",
    "You will sometimes need to map between ontologies, especially the disease ontologies. You can use the EBI's OxO service to lookup mappings from existing ontologies. Here we will use the [OxO REST API](https://www.ebi.ac.uk/spot/oxo/docs/api) to find mappings for the terms used above. \n",
    "\n",
    "You can submit multiple ids at once to OxO, we will also restrict the mappings to a set of disease ontologies; SNOMEDCT and ICD10CM. We also only want mappings from a trusted source, in this case we will set MONDO and EFO and the allowed source for mappings. We set the distance to 1 to only get direct mappings. In the next section we will look at distance 2 and how that changes the result. Also note the results from OxO are paged. \n"
   ]
  },
  {
   "cell_type": "code",
   "execution_count": 7,
   "metadata": {
    "collapsed": false
   },
   "outputs": [
    {
     "name": "stdout",
     "output_type": "stream",
     "text": [
      "EFO:0000341 (chronic obstructive pulmonary disease)\n\tmaps to ICD10CM:J44 ())\n\tmaps to SNOMEDCT:13645005 (Chronic obstructive lung disease))\n\tmaps to SNOMEDCT:413846005 (Chronic obstructive pulmonary disease finding))\n\tmaps to ICD10CM:J44.9 (Chronic obstructive pulmonary disease, unspecified))\n\tmaps to SNOMEDCT:84162001 (Cold))\nEFO:0000384 (Crohn's disease)\n\tmaps to ICD10CM:K50.1 ())\n\tmaps to ICD10CM:K50 ())\n\tmaps to SNOMEDCT:34000006 (Crohn's disease))\nOrphanet:797 (Sarcoidosis)\n\tmaps to ICD10CM:D86.9 (Sarcoidosis, unspecified))\n\tmaps to ICD10CM:D86.2 (Sarcoidosis of lung with sarcoidosis of lymph nodes))\n\tmaps to ICD10CM:D86.0 (Sarcoidosis of lung))\n\tmaps to ICD10CM:D80-D89 ())\n\tmaps to ICD10CM:D86 ())\n\tmaps to ICD10CM:D86.3 (Sarcoidosis of skin))\n\tmaps to ICD10CM:D86.1 (Sarcoidosis of lymph nodes))\n\tmaps to ICD10CM:D86.8 ())\nOrphanet:586 (Cystic fibrosis)\n\tmaps to ICD10CM:E84.9 (Cystic fibrosis, unspecified))\n\tmaps to ICD10CM:E84.0 (Cystic fibrosis with pulmonary manifestations))\n\tmaps to ICD10CM:E84 ())\n\tmaps to ICD10CM:E84.8 (Cystic fibrosis with other manifestations))\n\tmaps to ICD10CM:E84.1 ())\nEFO:0000768 (idiopathic pulmonary fibrosis)\n\tmaps to ICD10CM:J84.1 ())\n\tmaps to ICD10CM:J84.112 (Idiopathic pulmonary fibrosis))\n\tmaps to SNOMEDCT:700250006 (Idiopathic pulmonary fibrosis))\nEFO:0000571 (lung adenocarcinoma)\n\tmaps to SNOMEDCT:254626006 (Adenocarcinoma of lung))\nEFO:0006505 (chronic bronchitis)\n\tmaps to SNOMEDCT:63480004 (Chronic bronchitis))\n"
     ]
    }
   ],
   "source": [
    "    \n",
    "input_data = {\n",
    "    'ids' : term_id_map.values(),\n",
    "    \"mappingTarget\": [\"SNOMEDCT\", \"ICD10CM\"],\n",
    "    \"mappingSource\": [\"EFO\", \"MONDO\"],\n",
    "    'distance' : 1\n",
    "}\n",
    "\n",
    "def get_mappings_from_oxo (input_data):\n",
    "    oxo_search_url = OXO_BASE_URI + '/api/search'\n",
    "    more_paged_results = True\n",
    "    while (more_paged_results): \n",
    "    \n",
    "        oxo_response = requests.post(oxo_search_url, data=input_data)\n",
    "        \n",
    "        if oxo_response.ok:\n",
    "            jData = json.loads(oxo_response.content)\n",
    "    \n",
    "            for oxo_result in jData[\"_embedded\"][\"searchResults\"]:\n",
    "                print(\"{} ({})\".format(oxo_result['queryId'], oxo_result['label']))\n",
    "    \n",
    "                for mappings in oxo_result['mappingResponseList']:\n",
    "                    print(\"\\tmaps to {} ({}))\".format(\n",
    "                        mappings[\"curie\"],\n",
    "                        mappings[\"label\"]\n",
    "                    ))\n",
    "            \n",
    "            if 'next' in jData['_links']:\n",
    "                oxo_search_url = jData['_links']['next']['href']\n",
    "            else:\n",
    "                more_paged_results = False\n",
    "                \n",
    "get_mappings_from_oxo(input_data)"
   ]
  },
  {
   "cell_type": "markdown",
   "metadata": {},
   "source": [
    "Let's increase the distance and try again. Setting the distance to 2 will find indirect mappings and should increase the coverage for some terms. "
   ]
  },
  {
   "cell_type": "code",
   "execution_count": 8,
   "metadata": {
    "collapsed": false
   },
   "outputs": [
    {
     "name": "stdout",
     "output_type": "stream",
     "text": [
      "EFO:0000341 (chronic obstructive pulmonary disease)\n\tmaps to ICD10CM:J44 ())\n\tmaps to SNOMEDCT:13645005 (Chronic obstructive lung disease))\n\tmaps to SNOMEDCT:196003006 (Chronic obstructive airways disease NOS))\n\tmaps to SNOMEDCT:413846005 (Chronic obstructive pulmonary disease finding))\n\tmaps to ICD10CM:J44.9 (Chronic obstructive pulmonary disease, unspecified))\n\tmaps to SNOMEDCT:195948000 (Chronic obstructive lung disease))\n\tmaps to SNOMEDCT:195935004 (Chronic obstructive lung disease))\n\tmaps to SNOMEDCT:155569000 (Chronic obstructive lung disease))\n\tmaps to SNOMEDCT:155617000 (Chronic obstructive airways disease NOS))\n\tmaps to SNOMEDCT:155565006 (Chronic obstructive lung disease))\n\tmaps to SNOMEDCT:155585005 (Chronic obstructive airways disease NOS))\n\tmaps to SNOMEDCT:84162001 (Cold))\nEFO:0000384 (Crohn's disease)\n\tmaps to SNOMEDCT:196981009 (Regional enteritis of the large bowel))\n\tmaps to ICD10CM:K50.1 ())\n\tmaps to SNOMEDCT:266446008 (Crohn's disease of the large bowel NOS))\n\tmaps to SNOMEDCT:155762006 (Regional enteritis of the large bowel))\n\tmaps to SNOMEDCT:50440006 (Crohn's disease of colon))\n\tmaps to ICD10CM:K50 ())\n\tmaps to SNOMEDCT:196982002 ((Crohn's colitis) or (Crohn's disease of the large bowel NOS)))\n\tmaps to SNOMEDCT:34000006 (Crohn's disease))\n\tmaps to SNOMEDCT:7620006 (Crohn's disease of large bowel))\nOrphanet:797 (Sarcoidosis)\n\tmaps to ICD10CM:D86.9 (Sarcoidosis, unspecified))\n\tmaps to ICD10CM:D86.2 (Sarcoidosis of lung with sarcoidosis of lymph nodes))\n\tmaps to ICD10CM:D86.0 (Sarcoidosis of lung))\n\tmaps to ICD10CM:D80-D89 ())\n\tmaps to SNOMEDCT:154425004 (Sarcoidosis))\n\tmaps to ICD10CM:D86 ())\n\tmaps to ICD10CM:D86.3 (Sarcoidosis of skin))\n\tmaps to SNOMEDCT:31541009 (Sarcoidosis))\n\tmaps to ICD10CM:D86.1 (Sarcoidosis of lymph nodes))\n\tmaps to ICD10CM:D86.8 ())\nOrphanet:586 (Cystic fibrosis)\n\tmaps to ICD10CM:E84.9 (Cystic fibrosis, unspecified))\n\tmaps to SNOMEDCT:85809002 (Cystic fibrosis))\n\tmaps to ICD10CM:E84.0 (Cystic fibrosis with pulmonary manifestations))\n\tmaps to ICD10CM:E84 ())\n\tmaps to SNOMEDCT:154767009 (Cystic fibrosis))\n\tmaps to ICD10CM:E84.8 (Cystic fibrosis with other manifestations))\n\tmaps to SNOMEDCT:190905008 (Cystic fibrosis))\n\tmaps to ICD10CM:E84.1 ())\n\tmaps to SNOMEDCT:190911006 (Cystic fibrosis NOS))\nEFO:0000768 (idiopathic pulmonary fibrosis)\n\tmaps to ICD10CM:J84.1 ())\n\tmaps to ICD10CM:J84.112 (Idiopathic pulmonary fibrosis))\n\tmaps to SNOMEDCT:196125002 (Diffuse interstitial pulmonary fibrosis))\n\tmaps to SNOMEDCT:233721005 (Usual interstitial pneumonitis))\n\tmaps to SNOMEDCT:237121003 (Usual interstitial pneumonitis))\n\tmaps to SNOMEDCT:426437004 (Familial idiopathic pulmonary fibrosis))\n\tmaps to SNOMEDCT:700250006 (Idiopathic pulmonary fibrosis))\n\tmaps to SNOMEDCT:28168000 (Idiopathic fibrosing alveolitis, chronic form))\nEFO:0000571 (lung adenocarcinoma)\n\tmaps to SNOMEDCT:254626006 (Adenocarcinoma of lung))\nEFO:0006505 (chronic bronchitis)\n\tmaps to SNOMEDCT:155566007 (Chronic bronchitis))\n\tmaps to ICD10CM:J42 (Unspecified chronic bronchitis))\n\tmaps to SNOMEDCT:63480004 (Chronic bronchitis))\n\tmaps to SNOMEDCT:195956002 (Chronic bronchitis NOS))\n"
     ]
    }
   ],
   "source": [
    "input_data = {\n",
    "    'ids' : term_id_map.values(),\n",
    "    \"mappingTarget\": [\"SNOMEDCT\", \"ICD10CM\"],\n",
    "    \"mappingSource\": [\"EFO\", \"MONDO\"],\n",
    "    'distance' : 2\n",
    "}\n",
    "get_mappings_from_oxo(input_data)"
   ]
  },
  {
   "cell_type": "markdown",
   "metadata": {},
   "source": [
    "# Summary\n",
    "\n",
    "We've shown some of the functionality of the EBI's Ontology Lookup Service and OxO Mapping API. For more information about the EBI's ontology services see http://www.ebi.ac.uk/spot/ontology. You can also contact the team at ols-support@ebi.ac.uk"
   ]
  }
 ],
 "metadata": {
  "kernelspec": {
   "display_name": "Python 2",
   "language": "python",
   "name": "python2"
  },
  "language_info": {
   "codemirror_mode": {
    "name": "ipython",
    "version": 2
   },
   "file_extension": ".py",
   "mimetype": "text/x-python",
   "name": "python",
   "nbconvert_exporter": "python",
   "pygments_lexer": "ipython2",
   "version": "2.7.6"
  }
 },
 "nbformat": 4,
 "nbformat_minor": 0
}
